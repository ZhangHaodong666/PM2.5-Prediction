{
  "nbformat": 4,
  "nbformat_minor": 0,
  "metadata": {
    "colab": {
      "name": "期末.ipynb",
      "provenance": [],
      "collapsed_sections": [],
      "toc_visible": true
    },
    "kernelspec": {
      "display_name": "Python 3",
      "language": "python",
      "name": "python3"
    },
    "language_info": {
      "codemirror_mode": {
        "name": "ipython",
        "version": 3
      },
      "file_extension": ".py",
      "mimetype": "text/x-python",
      "name": "python",
      "nbconvert_exporter": "python",
      "pygments_lexer": "ipython3",
      "version": "3.7.7"
    }
  },
  "cells": [
    {
      "cell_type": "code",
      "metadata": {
        "colab_type": "code",
        "id": "1AfNX-hB3kN8",
        "colab": {
          "base_uri": "https://localhost:8080/",
          "height": 135
        },
        "outputId": "18661f54-a0e9-4c39-8503-3f6e689a59c8"
      },
      "source": [
        "import sys\n",
        "import pandas as pd\n",
        "import numpy as np\n",
        "from google.colab import drive\n",
        "import matplotlib.pyplot as plt\n",
        "!gdown --id '1wNKAxQ29G15kgpBy_asjTcZRRgmsCZRm' --output data.zip\n",
        "!unzip data.zip\n",
        "#data = pd.read_csv('gdrive/My Drive/hw1-regression/train.csv', header = None, encoding = 'big5')\n",
        "data = pd.read_csv('./train.csv', encoding = 'big5')\n"
      ],
      "execution_count": 1,
      "outputs": [
        {
          "output_type": "stream",
          "text": [
            "Downloading...\n",
            "From: https://drive.google.com/uc?id=1wNKAxQ29G15kgpBy_asjTcZRRgmsCZRm\n",
            "To: /content/data.zip\n",
            "\r  0% 0.00/177k [00:00<?, ?B/s]\r100% 177k/177k [00:00<00:00, 61.5MB/s]\n",
            "Archive:  data.zip\n",
            "replace test.csv? [y]es, [n]o, [A]ll, [N]one, [r]ename: n\n",
            "replace train.csv? [y]es, [n]o, [A]ll, [N]one, [r]ename: n\n"
          ],
          "name": "stdout"
        }
      ]
    },
    {
      "cell_type": "markdown",
      "metadata": {
        "colab_type": "text",
        "id": "gqUdj00pDTpo"
      },
      "source": [
        "# **Preprocessing** \n"
      ]
    },
    {
      "cell_type": "code",
      "metadata": {
        "colab_type": "code",
        "id": "AIGP7XUYD_Yb",
        "colab": {}
      },
      "source": [
        "data = data.iloc[:, 3:]\n",
        "data[data == 'NR'] = 0\n",
        "raw_data = data.to_numpy()"
      ],
      "execution_count": 2,
      "outputs": []
    },
    {
      "cell_type": "markdown",
      "metadata": {
        "colab_type": "text",
        "id": "V7PCrVwX6jBF"
      },
      "source": [
        "# **Extract Features (1)**\n",
        " "
      ]
    },
    {
      "cell_type": "code",
      "metadata": {
        "colab_type": "code",
        "id": "HBnrGYXu9dZQ",
        "colab": {}
      },
      "source": [
        "month_data = {}\n",
        "for month in range(12):\n",
        "    sample = np.empty([18, 480])\n",
        "    for day in range(20):\n",
        "        sample[:, day * 24 : (day + 1) * 24] = raw_data[18 * (20 * month + day) : 18 * (20 * month + day + 1), :]\n",
        "    month_data[month] = sample"
      ],
      "execution_count": 3,
      "outputs": []
    },
    {
      "cell_type": "markdown",
      "metadata": {
        "colab_type": "text",
        "id": "WhVmtFEQ9D6t"
      },
      "source": [
        "# **Extract Features (2)**\n"
      ]
    },
    {
      "cell_type": "code",
      "metadata": {
        "colab_type": "code",
        "id": "dcOrC4Fi-n3i",
        "colab": {
          "base_uri": "https://localhost:8080/",
          "height": 253
        },
        "outputId": "9e4ae713-07fd-48d2-dce4-523b1e79d14c"
      },
      "source": [
        "x = np.empty([12 * 471, 18 * 9], dtype = float)\n",
        "y = np.empty([12 * 471, 1], dtype = float)\n",
        "for month in range(12):\n",
        "    for day in range(20):\n",
        "        for hour in range(24):\n",
        "            if day == 19 and hour > 14:\n",
        "                continue\n",
        "            x[month * 471 + day * 24 + hour, :] = month_data[month][:,day * 24 + hour : day * 24 + hour + 9].reshape(1, -1) #vector dim:18*9 (9 9 9 9 9 9 9 9 9 9 9 9 9 9 9 9 9 9)\n",
        "            y[month * 471 + day * 24 + hour, 0] = month_data[month][9, day * 24 + hour + 9] #value\n",
        "print(x)\n",
        "print(y)"
      ],
      "execution_count": 4,
      "outputs": [
        {
          "output_type": "stream",
          "text": [
            "[[14.  14.  14.  ...  2.   2.   0.5]\n",
            " [14.  14.  13.  ...  2.   0.5  0.3]\n",
            " [14.  13.  12.  ...  0.5  0.3  0.8]\n",
            " ...\n",
            " [17.  18.  19.  ...  1.1  1.4  1.3]\n",
            " [18.  19.  18.  ...  1.4  1.3  1.6]\n",
            " [19.  18.  17.  ...  1.3  1.6  1.8]]\n",
            "[[30.]\n",
            " [41.]\n",
            " [44.]\n",
            " ...\n",
            " [17.]\n",
            " [24.]\n",
            " [29.]]\n"
          ],
          "name": "stdout"
        }
      ]
    },
    {
      "cell_type": "code",
      "metadata": {
        "id": "AE-A7N63perd",
        "colab_type": "code",
        "colab": {}
      },
      "source": [
        "import math\n",
        "x_train_set = x[: math.floor(len(x) * 0.8), :]\n",
        "y_train_set = y[: math.floor(len(y) * 0.8), :]\n",
        "x_validation = x[math.floor(len(x) * 0.8): , :]\n",
        "y_validation = y[math.floor(len(y) * 0.8): , :]"
      ],
      "execution_count": 5,
      "outputs": []
    },
    {
      "cell_type": "code",
      "metadata": {
        "id": "We46igKXpmTE",
        "colab_type": "code",
        "colab": {
          "base_uri": "https://localhost:8080/",
          "height": 51
        },
        "outputId": "80ac0e76-e5da-4dc3-849a-25242fac13d8"
      },
      "source": [
        "from sklearn.linear_model import LinearRegression\n",
        "\n",
        "model = LinearRegression()\n",
        "model.fit(x_train_set,y_train_set)\n",
        "\n",
        "print('正解率（train）：{:.3f}'.format(model.score(x_train_set,y_train_set)))\n",
        "print('正解率（validation）：{:.3f}'.format(model.score(x_validation,y_validation)))"
      ],
      "execution_count": 14,
      "outputs": [
        {
          "output_type": "stream",
          "text": [
            "正解率（train）：0.886\n",
            "正解率（validation）：0.865\n"
          ],
          "name": "stdout"
        }
      ]
    },
    {
      "cell_type": "code",
      "metadata": {
        "id": "hAVEP3ynqbXP",
        "colab_type": "code",
        "colab": {
          "base_uri": "https://localhost:8080/",
          "height": 186
        },
        "outputId": "f280312b-9e93-407d-8b42-96c092a1ad3e"
      },
      "source": [
        "from sklearn.linear_model import LinearRegression\n",
        "from sklearn.linear_model import Ridge\n",
        "from sklearn.linear_model import Lasso\n",
        "from sklearn.linear_model import LogisticRegression\n",
        "from sklearn.tree import DecisionTreeRegressor\n",
        "\n",
        "linear1 = LinearRegression(fit_intercept=True, normalize=False, copy_X=True, n_jobs=None)\n",
        "ridge = Ridge(random_state = 0)\n",
        "lasso = Lasso(alpha=0.1,random_state = 0)\n",
        "DeTree = DecisionTreeRegressor(max_depth=2)\n",
        "\n",
        "\n",
        "for model in [linear1, linear2, ridge, lasso, DeTree]:\n",
        "  model.fit(x_train_set,y_train_set)\n",
        "  print('{}(train):{:.8f}'.format(model.__class__.__name__, model.score(x_train_set,y_train_set)))\n",
        "  print('{}(validation):{:.8f}'.format(model.__class__.__name__, model.score(x_validation,y_validation)))"
      ],
      "execution_count": 28,
      "outputs": [
        {
          "output_type": "stream",
          "text": [
            "LinearRegression(train):0.88551314\n",
            "LinearRegression(validation):0.86510328\n",
            "LinearRegression(train):0.88551314\n",
            "LinearRegression(validation):0.86510328\n",
            "Ridge(train):0.88549805\n",
            "Ridge(validation):0.86506968\n",
            "Lasso(train):0.88320933\n",
            "Lasso(validation):0.86483322\n",
            "DecisionTreeRegressor(train):0.76989884\n",
            "DecisionTreeRegressor(validation):0.74429382\n"
          ],
          "name": "stdout"
        }
      ]
    },
    {
      "cell_type": "code",
      "metadata": {
        "id": "J9v16J6qpQvb",
        "colab_type": "code",
        "colab": {
          "base_uri": "https://localhost:8080/",
          "height": 214
        },
        "outputId": "d98530de-2c2c-4421-8aee-3e50e2e474f2"
      },
      "source": [
        "from sklearn.metrics import mean_squared_error\n",
        "for model in [linear, ridge, lasso, DeTree]:\n",
        "  y_pred = model.predict(x_validation)\n",
        "  print('{}(train):{:.8f}'.format(model.__class__.__name__, mean_squared_error(y_test,y_pred)))"
      ],
      "execution_count": 17,
      "outputs": [
        {
          "output_type": "error",
          "ename": "NameError",
          "evalue": "ignored",
          "traceback": [
            "\u001b[0;31m---------------------------------------------------------------------------\u001b[0m",
            "\u001b[0;31mNameError\u001b[0m                                 Traceback (most recent call last)",
            "\u001b[0;32m<ipython-input-17-6db4b48ba255>\u001b[0m in \u001b[0;36m<module>\u001b[0;34m()\u001b[0m\n\u001b[1;32m      1\u001b[0m \u001b[0;32mfrom\u001b[0m \u001b[0msklearn\u001b[0m\u001b[0;34m.\u001b[0m\u001b[0mmetrics\u001b[0m \u001b[0;32mimport\u001b[0m \u001b[0mmean_squared_error\u001b[0m\u001b[0;34m\u001b[0m\u001b[0;34m\u001b[0m\u001b[0m\n\u001b[0;32m----> 2\u001b[0;31m \u001b[0;32mfor\u001b[0m \u001b[0mmodel\u001b[0m \u001b[0;32min\u001b[0m \u001b[0;34m[\u001b[0m\u001b[0mlinear\u001b[0m\u001b[0;34m,\u001b[0m \u001b[0mridge\u001b[0m\u001b[0;34m,\u001b[0m \u001b[0mlasso\u001b[0m\u001b[0;34m,\u001b[0m \u001b[0mDeTree\u001b[0m\u001b[0;34m]\u001b[0m\u001b[0;34m:\u001b[0m\u001b[0;34m\u001b[0m\u001b[0;34m\u001b[0m\u001b[0m\n\u001b[0m\u001b[1;32m      3\u001b[0m   \u001b[0my_pred\u001b[0m \u001b[0;34m=\u001b[0m \u001b[0mmodel\u001b[0m\u001b[0;34m.\u001b[0m\u001b[0mpredict\u001b[0m\u001b[0;34m(\u001b[0m\u001b[0mx_validation\u001b[0m\u001b[0;34m)\u001b[0m\u001b[0;34m\u001b[0m\u001b[0;34m\u001b[0m\u001b[0m\n\u001b[1;32m      4\u001b[0m   \u001b[0mprint\u001b[0m\u001b[0;34m(\u001b[0m\u001b[0;34m'{}(train):{:.8f}'\u001b[0m\u001b[0;34m.\u001b[0m\u001b[0mformat\u001b[0m\u001b[0;34m(\u001b[0m\u001b[0mmodel\u001b[0m\u001b[0;34m.\u001b[0m\u001b[0m__class__\u001b[0m\u001b[0;34m.\u001b[0m\u001b[0m__name__\u001b[0m\u001b[0;34m,\u001b[0m \u001b[0mmean_squared_error\u001b[0m\u001b[0;34m(\u001b[0m\u001b[0my_test\u001b[0m\u001b[0;34m,\u001b[0m\u001b[0my_pred\u001b[0m\u001b[0;34m)\u001b[0m\u001b[0;34m)\u001b[0m\u001b[0;34m)\u001b[0m\u001b[0;34m\u001b[0m\u001b[0;34m\u001b[0m\u001b[0m\n",
            "\u001b[0;31mNameError\u001b[0m: name 'linear' is not defined"
          ]
        }
      ]
    },
    {
      "cell_type": "markdown",
      "metadata": {
        "colab_type": "text",
        "id": "1wOii0TX8IwE"
      },
      "source": [
        "# **Normalize (1)**\n"
      ]
    },
    {
      "cell_type": "code",
      "metadata": {
        "colab_type": "code",
        "id": "ceMqFoNI8ftQ",
        "colab": {
          "base_uri": "https://localhost:8080/",
          "height": 34
        },
        "outputId": "27298db3-3929-4083-e0ce-3a0f78967817"
      },
      "source": [
        "mean_x = np.mean(x, axis = 0) #18 * 9 \n",
        "std_x = np.std(x, axis = 0) #18 * 9 \n",
        "for i in range(len(x)): #12 * 471\n",
        "    for j in range(len(x[0])): #18 * 9 \n",
        "        if std_x[j] != 0:\n",
        "            x[i][j] = (x[i][j] - mean_x[j]) / std_x[j]\n",
        "x.shape"
      ],
      "execution_count": null,
      "outputs": [
        {
          "output_type": "execute_result",
          "data": {
            "text/plain": [
              "(5652, 162)"
            ]
          },
          "metadata": {
            "tags": []
          },
          "execution_count": 16
        }
      ]
    },
    {
      "cell_type": "markdown",
      "metadata": {
        "colab_type": "text",
        "id": "NzvXP5Jya64j"
      },
      "source": [
        "#**Split Training Data Into \"train_set\" and \"validation_set\"**\n"
      ]
    },
    {
      "cell_type": "code",
      "metadata": {
        "colab_type": "code",
        "id": "feF4XXOQb5SC",
        "colab": {}
      },
      "source": [
        "import math\n",
        "x_train_set = x[: math.floor(len(x) * 0.8), :]\n",
        "y_train_set = y[: math.floor(len(y) * 0.8), :]\n",
        "x_text = x[math.floor(len(x) * 0.8): , :]\n",
        "y_text = y[math.floor(len(y) * 0.8): , :]"
      ],
      "execution_count": null,
      "outputs": []
    },
    {
      "cell_type": "code",
      "metadata": {
        "id": "28Yh9UrFN65E",
        "colab_type": "code",
        "colab": {}
      },
      "source": [
        "from sklearn.tree import DecisionTreeRegressor\n",
        "from sklearn.tree import export_graphviz"
      ],
      "execution_count": 26,
      "outputs": []
    },
    {
      "cell_type": "code",
      "metadata": {
        "id": "5r1IuJ2AN65H",
        "colab_type": "code",
        "colab": {
          "base_uri": "https://localhost:8080/",
          "height": 34
        },
        "outputId": "00c0fc93-3902-4c06-90d0-32bbe26132f5"
      },
      "source": [
        "DeTree = DecisionTreeRegressor(max_depth=5)\n",
        "DeTree.fit(x_train_set,y_train_set)\n",
        "DeTree.score(x_validation,y_validation)"
      ],
      "execution_count": 24,
      "outputs": [
        {
          "output_type": "execute_result",
          "data": {
            "text/plain": [
              "0.8075547542815404"
            ]
          },
          "metadata": {
            "tags": []
          },
          "execution_count": 24
        }
      ]
    },
    {
      "cell_type": "code",
      "metadata": {
        "id": "LNMdSEtKZwYO",
        "colab_type": "code",
        "colab": {}
      },
      "source": [
        "x_train_set = pd.DataFrame(x_train_set)\n",
        "export_graphviz(DeTree, out_file = \"mytree.dot\",\n",
        "                feature_names = x_train_set.columns )"
      ],
      "execution_count": 27,
      "outputs": []
    },
    {
      "cell_type": "code",
      "metadata": {
        "id": "M28LIhWJ-7qF",
        "colab_type": "code",
        "colab": {
          "base_uri": "https://localhost:8080/",
          "height": 34
        },
        "outputId": "ac2456cf-93ac-4a6d-fc98-4a5a612b5396"
      },
      "source": [
        "y_pred = DeTree.predict(x_test)\n",
        "from sklearn.metrics import mean_squared_error\n",
        "mean_squared_error(y_test,y_pred)"
      ],
      "execution_count": null,
      "outputs": [
        {
          "output_type": "execute_result",
          "data": {
            "text/plain": [
              "60.909199496358696"
            ]
          },
          "metadata": {
            "tags": []
          },
          "execution_count": 39
        }
      ]
    },
    {
      "cell_type": "markdown",
      "metadata": {
        "colab_type": "text",
        "id": "Q-qAu0KR_ZRR"
      },
      "source": [
        "# **Training**\n"
      ]
    },
    {
      "cell_type": "code",
      "metadata": {
        "colab_type": "code",
        "id": "cCzDfxBFBFqp",
        "colab": {},
        "outputId": "57b55c6f-7347-4cb0-c568-efad83d6022b"
      },
      "source": [
        "dim = 18 * 9 + 1\n",
        "w = np.zeros([dim, 1])\n",
        "x = np.concatenate((np.ones([12 * 471, 1]), x), axis = 1).astype(float)\n",
        "learning_rate = 100\n",
        "iter_time = 1000\n",
        "adagrad = np.zeros([dim, 1])\n",
        "eps = 0.0000000001\n",
        "for t in range(iter_time):\n",
        "    loss = np.sqrt(np.sum(np.power(np.dot(x, w) - y, 2))/471/12)#rmse\n",
        "    if(t%100==0):\n",
        "        print(str(t) + \":\" + str(loss))\n",
        "    gradient = 2 * np.dot(x.transpose(), np.dot(x, w) - y) #dim*1\n",
        "    adagrad += gradient ** 2\n",
        "    w = w - learning_rate * gradient / np.sqrt(adagrad + eps)\n",
        "np.save('weight.npy', w)\n",
        "w"
      ],
      "execution_count": null,
      "outputs": [
        {
          "output_type": "stream",
          "text": [
            "0:27.071214829194115\n",
            "100:33.78905859777455\n",
            "200:19.913751298197102\n",
            "300:13.531068193689693\n",
            "400:10.64546615844617\n",
            "500:9.277353455475062\n",
            "600:8.518042045956497\n",
            "700:8.014061987588418\n",
            "800:7.636756824775688\n",
            "900:7.336563740371121\n"
          ],
          "name": "stdout"
        },
        {
          "output_type": "execute_result",
          "data": {
            "text/plain": [
              "array([[ 2.13740269e+01],\n",
              "       [ 3.58888909e+00],\n",
              "       [ 4.56386323e+00],\n",
              "       [ 2.16307023e+00],\n",
              "       [-6.58545223e+00],\n",
              "       [-3.38885580e+01],\n",
              "       [ 3.22235518e+01],\n",
              "       [ 3.49340354e+00],\n",
              "       [-4.60308671e+00],\n",
              "       [-1.02374754e+00],\n",
              "       [-3.96791501e-01],\n",
              "       [-1.06908800e-01],\n",
              "       [ 2.22488184e-01],\n",
              "       [ 8.99634117e-02],\n",
              "       [ 1.31243105e-01],\n",
              "       [ 2.15894989e-02],\n",
              "       [-1.52867263e-01],\n",
              "       [ 4.54087776e-02],\n",
              "       [ 5.20999235e-01],\n",
              "       [ 1.60824213e-01],\n",
              "       [-3.17709451e-02],\n",
              "       [ 1.28529025e-02],\n",
              "       [-1.76839437e-01],\n",
              "       [ 1.71241371e-01],\n",
              "       [-1.31190032e-01],\n",
              "       [-3.51614451e-02],\n",
              "       [ 1.00826192e-01],\n",
              "       [ 3.45018257e-01],\n",
              "       [ 4.00130315e-02],\n",
              "       [ 2.54331382e-02],\n",
              "       [-5.04425219e-01],\n",
              "       [ 3.71483018e-01],\n",
              "       [ 8.46357671e-01],\n",
              "       [-8.11920428e-01],\n",
              "       [-8.00217575e-02],\n",
              "       [ 1.52737711e-01],\n",
              "       [ 2.64915130e-01],\n",
              "       [-5.19860416e-02],\n",
              "       [-2.51988315e-01],\n",
              "       [ 3.85246517e-01],\n",
              "       [ 1.65431451e-01],\n",
              "       [-7.83633314e-02],\n",
              "       [-2.89457231e-01],\n",
              "       [ 1.77615023e-01],\n",
              "       [ 3.22506948e-01],\n",
              "       [-4.59955256e-01],\n",
              "       [-3.48635358e-02],\n",
              "       [-5.81764363e-01],\n",
              "       [-6.43394528e-02],\n",
              "       [-6.32876949e-01],\n",
              "       [ 6.36624507e-02],\n",
              "       [ 8.31592506e-02],\n",
              "       [-4.45157961e-01],\n",
              "       [-2.34526366e-01],\n",
              "       [ 9.86608594e-01],\n",
              "       [ 2.65230652e-01],\n",
              "       [ 3.51938093e-02],\n",
              "       [ 3.07464334e-01],\n",
              "       [-1.04311239e-01],\n",
              "       [-6.49166901e-02],\n",
              "       [ 2.11224757e-01],\n",
              "       [-2.43159815e-01],\n",
              "       [-1.31285604e-01],\n",
              "       [ 1.09045810e+00],\n",
              "       [-3.97913710e-02],\n",
              "       [ 9.19563678e-01],\n",
              "       [-9.44824150e-01],\n",
              "       [-5.04137735e-01],\n",
              "       [ 6.81272939e-01],\n",
              "       [-1.34494828e+00],\n",
              "       [-2.68009542e-01],\n",
              "       [ 4.36204342e-02],\n",
              "       [ 1.89619513e+00],\n",
              "       [-3.41873873e-01],\n",
              "       [ 1.89162461e-01],\n",
              "       [ 1.73251268e-02],\n",
              "       [ 3.14431930e-01],\n",
              "       [-3.40828467e-01],\n",
              "       [ 4.92385651e-01],\n",
              "       [ 9.29634214e-02],\n",
              "       [-4.50983589e-01],\n",
              "       [ 1.47456584e+00],\n",
              "       [-3.03417236e-02],\n",
              "       [ 7.71229328e-02],\n",
              "       [ 6.38314494e-01],\n",
              "       [-7.93287087e-01],\n",
              "       [ 8.82877506e-01],\n",
              "       [ 3.18965610e+00],\n",
              "       [-5.75671706e+00],\n",
              "       [ 1.60748945e+00],\n",
              "       [ 1.36142440e+01],\n",
              "       [ 1.50029111e-01],\n",
              "       [-4.78389603e-02],\n",
              "       [-6.29463755e-02],\n",
              "       [-2.85383032e-02],\n",
              "       [-3.01562821e-01],\n",
              "       [ 4.12058013e-01],\n",
              "       [-6.77534154e-02],\n",
              "       [-1.00985479e-01],\n",
              "       [-1.68972973e-01],\n",
              "       [ 1.64093233e+00],\n",
              "       [ 1.89670371e+00],\n",
              "       [ 3.94713816e-01],\n",
              "       [-4.71231449e+00],\n",
              "       [-7.42760774e+00],\n",
              "       [ 6.19781936e+00],\n",
              "       [ 3.53986244e+00],\n",
              "       [-9.56245861e-01],\n",
              "       [-1.04372792e+00],\n",
              "       [-4.92863713e-01],\n",
              "       [ 6.31608790e-01],\n",
              "       [-4.85175956e-01],\n",
              "       [ 2.58400216e-01],\n",
              "       [ 9.43846795e-02],\n",
              "       [-1.29323184e-01],\n",
              "       [-3.81235287e-01],\n",
              "       [ 3.86819479e-01],\n",
              "       [ 4.04211627e-01],\n",
              "       [ 3.75568914e-01],\n",
              "       [ 1.83512261e-01],\n",
              "       [-8.01417708e-02],\n",
              "       [-3.10188597e-01],\n",
              "       [-3.96124612e-01],\n",
              "       [ 3.66227853e-01],\n",
              "       [ 1.79488593e-01],\n",
              "       [-3.14477051e-01],\n",
              "       [-2.37611443e-01],\n",
              "       [ 3.97076104e-02],\n",
              "       [ 1.38775912e-01],\n",
              "       [-3.84015069e-02],\n",
              "       [-5.47557119e-02],\n",
              "       [ 4.19975207e-01],\n",
              "       [ 4.46120687e-01],\n",
              "       [-4.31074826e-01],\n",
              "       [-8.74450768e-02],\n",
              "       [-5.69534264e-02],\n",
              "       [-7.23980157e-02],\n",
              "       [-1.39880128e-02],\n",
              "       [ 1.40489658e-01],\n",
              "       [-2.44952334e-01],\n",
              "       [ 1.83646770e-01],\n",
              "       [-1.64135512e-01],\n",
              "       [-7.41216452e-02],\n",
              "       [-9.71414213e-02],\n",
              "       [ 1.98829041e-02],\n",
              "       [-4.46965919e-01],\n",
              "       [-2.63440959e-01],\n",
              "       [ 1.52924043e-01],\n",
              "       [ 6.52532847e-02],\n",
              "       [ 7.06818266e-01],\n",
              "       [ 9.73757051e-02],\n",
              "       [-3.35687787e-01],\n",
              "       [-2.26559165e-01],\n",
              "       [-3.00117086e-01],\n",
              "       [ 1.24185231e-01],\n",
              "       [ 4.18872344e-01],\n",
              "       [-2.51891946e-01],\n",
              "       [-1.29095731e-01],\n",
              "       [-5.57512471e-01],\n",
              "       [ 8.76239582e-02],\n",
              "       [ 3.02594902e-01],\n",
              "       [-4.23463160e-01],\n",
              "       [ 4.89922051e-01]])"
            ]
          },
          "metadata": {
            "tags": []
          },
          "execution_count": 8
        }
      ]
    },
    {
      "cell_type": "markdown",
      "metadata": {
        "colab_type": "text",
        "id": "ZqNdWKsYBK28"
      },
      "source": [
        "# **Testing**\n"
      ]
    },
    {
      "cell_type": "code",
      "metadata": {
        "colab_type": "code",
        "id": "AALygqJFCWOA",
        "colab": {},
        "outputId": "5ddad6a4-5f71-45d0-c51c-67dab44b480c"
      },
      "source": [
        "# testdata = pd.read_csv('gdrive/My Drive/hw1-regression/test.csv', header = None, encoding = 'big5')\n",
        "testdata = pd.read_csv('./test.csv', header = None, encoding = 'big5')\n",
        "test_data = testdata.iloc[:, 2:]\n",
        "test_data[test_data == 'NR'] = 0\n",
        "test_data = test_data.to_numpy()\n",
        "test_x = np.empty([240, 18*9], dtype = float)\n",
        "for i in range(240):\n",
        "    test_x[i, :] = test_data[18 * i: 18* (i + 1), :].reshape(1, -1)\n",
        "for i in range(len(test_x)):\n",
        "    for j in range(len(test_x[0])):\n",
        "        if std_x[j] != 0:\n",
        "            test_x[i][j] = (test_x[i][j] - mean_x[j]) / std_x[j]\n",
        "test_x = np.concatenate((np.ones([240, 1]), test_x), axis = 1).astype(float)\n",
        "test_x"
      ],
      "execution_count": null,
      "outputs": [
        {
          "output_type": "stream",
          "text": [
            "E:\\Anaconda\\envs\\using\\lib\\site-packages\\ipykernel_launcher.py:4: SettingWithCopyWarning: \n",
            "A value is trying to be set on a copy of a slice from a DataFrame.\n",
            "Try using .loc[row_indexer,col_indexer] = value instead\n",
            "\n",
            "See the caveats in the documentation: https://pandas.pydata.org/pandas-docs/stable/user_guide/indexing.html#returning-a-view-versus-a-copy\n",
            "  after removing the cwd from sys.path.\n",
            "E:\\Anaconda\\envs\\using\\lib\\site-packages\\pandas\\core\\frame.py:2986: SettingWithCopyWarning: \n",
            "A value is trying to be set on a copy of a slice from a DataFrame\n",
            "\n",
            "See the caveats in the documentation: https://pandas.pydata.org/pandas-docs/stable/user_guide/indexing.html#returning-a-view-versus-a-copy\n",
            "  self._where(-key, value, inplace=True)\n"
          ],
          "name": "stderr"
        },
        {
          "output_type": "execute_result",
          "data": {
            "text/plain": [
              "array([[ 1.        , -0.24447681, -0.24545919, ..., -0.67065391,\n",
              "        -1.04594393,  0.07797893],\n",
              "       [ 1.        , -1.35825331, -1.51789368, ...,  0.17279117,\n",
              "        -0.10906991, -0.48454426],\n",
              "       [ 1.        ,  1.5057434 ,  1.34508393, ..., -1.32666675,\n",
              "        -1.04594393, -0.57829812],\n",
              "       ...,\n",
              "       [ 1.        ,  0.3919669 ,  0.54981237, ...,  0.26650729,\n",
              "        -0.20275731,  1.20302531],\n",
              "       [ 1.        , -1.8355861 , -1.8360023 , ..., -1.04551839,\n",
              "        -1.13963133, -1.14082131],\n",
              "       [ 1.        , -1.35825331, -1.35883937, ...,  2.98427476,\n",
              "         3.26367657,  1.76554849]])"
            ]
          },
          "metadata": {
            "tags": []
          },
          "execution_count": 9
        }
      ]
    },
    {
      "cell_type": "code",
      "metadata": {
        "colab_type": "code",
        "id": "jNyB229jHsEQ",
        "colab": {},
        "outputId": "3c8f96bd-9a4f-4ed2-8c45-2fa8dfb4bf6f"
      },
      "source": [
        "w = np.load('weight.npy')\n",
        "ans_y = np.dot(test_x, w)\n",
        "ans_y"
      ],
      "execution_count": null,
      "outputs": [
        {
          "output_type": "execute_result",
          "data": {
            "text/plain": [
              "array([[ 5.17496040e+00],\n",
              "       [ 1.83062143e+01],\n",
              "       [ 2.04912181e+01],\n",
              "       [ 1.15239429e+01],\n",
              "       [ 2.66160568e+01],\n",
              "       [ 2.05313481e+01],\n",
              "       [ 2.19065510e+01],\n",
              "       [ 3.17364687e+01],\n",
              "       [ 1.33916741e+01],\n",
              "       [ 6.44564665e+01],\n",
              "       [ 2.02645688e+01],\n",
              "       [ 1.53585761e+01],\n",
              "       [ 6.85894728e+01],\n",
              "       [ 4.84281137e+01],\n",
              "       [ 1.87023338e+01],\n",
              "       [ 1.01885957e+01],\n",
              "       [ 3.07403629e+01],\n",
              "       [ 7.11322178e+01],\n",
              "       [-4.13051739e+00],\n",
              "       [ 1.82356940e+01],\n",
              "       [ 3.85789223e+01],\n",
              "       [ 7.13115197e+01],\n",
              "       [ 7.41034816e+00],\n",
              "       [ 1.87179553e+01],\n",
              "       [ 1.49372503e+01],\n",
              "       [ 3.67197367e+01],\n",
              "       [ 1.79616970e+01],\n",
              "       [ 7.57894629e+01],\n",
              "       [ 1.23093102e+01],\n",
              "       [ 5.62953517e+01],\n",
              "       [ 2.51131609e+01],\n",
              "       [ 4.61024867e+00],\n",
              "       [ 2.48377055e+00],\n",
              "       [ 2.47594223e+01],\n",
              "       [ 3.04802805e+01],\n",
              "       [ 3.84639307e+01],\n",
              "       [ 4.42023106e+01],\n",
              "       [ 3.00868360e+01],\n",
              "       [ 4.04736750e+01],\n",
              "       [ 2.92264799e+01],\n",
              "       [ 5.60645605e+00],\n",
              "       [ 3.86660161e+01],\n",
              "       [ 3.46102134e+01],\n",
              "       [ 4.83896975e+01],\n",
              "       [ 1.47572477e+01],\n",
              "       [ 3.44668201e+01],\n",
              "       [ 2.74831069e+01],\n",
              "       [ 1.20008794e+01],\n",
              "       [ 2.13780362e+01],\n",
              "       [ 2.85444031e+01],\n",
              "       [ 2.01655138e+01],\n",
              "       [ 1.07966781e+01],\n",
              "       [ 2.21710358e+01],\n",
              "       [ 5.34462631e+01],\n",
              "       [ 1.22195811e+01],\n",
              "       [ 4.33009685e+01],\n",
              "       [ 3.21823351e+01],\n",
              "       [ 2.25672175e+01],\n",
              "       [ 5.67395142e+01],\n",
              "       [ 2.07450529e+01],\n",
              "       [ 1.50288546e+01],\n",
              "       [ 3.98553016e+01],\n",
              "       [ 1.29753407e+01],\n",
              "       [ 5.17416596e+01],\n",
              "       [ 1.87833696e+01],\n",
              "       [ 1.23487528e+01],\n",
              "       [ 1.56336237e+01],\n",
              "       [-5.88714707e-02],\n",
              "       [ 4.15080111e+01],\n",
              "       [ 3.15487475e+01],\n",
              "       [ 1.86042512e+01],\n",
              "       [ 3.74768197e+01],\n",
              "       [ 5.65203907e+01],\n",
              "       [ 6.58787719e+00],\n",
              "       [ 1.22293397e+01],\n",
              "       [ 5.20369640e+00],\n",
              "       [ 4.79273751e+01],\n",
              "       [ 1.30207057e+01],\n",
              "       [ 1.71103017e+01],\n",
              "       [ 2.06032345e+01],\n",
              "       [ 2.12844816e+01],\n",
              "       [ 3.86929353e+01],\n",
              "       [ 3.00207167e+01],\n",
              "       [ 8.87674067e+01],\n",
              "       [ 3.59847002e+01],\n",
              "       [ 2.67569136e+01],\n",
              "       [ 2.39635168e+01],\n",
              "       [ 3.27472428e+01],\n",
              "       [ 2.21890438e+01],\n",
              "       [ 2.09921589e+01],\n",
              "       [ 2.95559943e+01],\n",
              "       [ 4.09921689e+01],\n",
              "       [ 8.62511781e+00],\n",
              "       [ 3.23214718e+01],\n",
              "       [ 4.65980444e+01],\n",
              "       [ 2.28840708e+01],\n",
              "       [ 3.15181297e+01],\n",
              "       [ 1.11982335e+01],\n",
              "       [ 2.85274366e+01],\n",
              "       [ 2.91150680e-01],\n",
              "       [ 1.79669611e+01],\n",
              "       [ 2.71241639e+01],\n",
              "       [ 1.13982328e+01],\n",
              "       [ 1.64264269e+01],\n",
              "       [ 2.34252610e+01],\n",
              "       [ 4.06160827e+01],\n",
              "       [ 2.58641250e+01],\n",
              "       [ 5.42273695e+00],\n",
              "       [ 1.07949211e+01],\n",
              "       [ 7.28621369e+01],\n",
              "       [ 4.80228371e+01],\n",
              "       [ 1.57468083e+01],\n",
              "       [ 2.46704106e+01],\n",
              "       [ 1.28277933e+01],\n",
              "       [ 1.01580576e+01],\n",
              "       [ 2.72692233e+01],\n",
              "       [ 2.92087386e+01],\n",
              "       [ 8.83533962e+00],\n",
              "       [ 2.00510881e+01],\n",
              "       [ 2.02123337e+01],\n",
              "       [ 7.99060093e+01],\n",
              "       [ 1.80616143e+01],\n",
              "       [ 3.05428093e+01],\n",
              "       [ 2.59807924e+01],\n",
              "       [ 5.21257727e+00],\n",
              "       [ 3.03556973e+01],\n",
              "       [ 7.76832289e+00],\n",
              "       [ 1.53282683e+01],\n",
              "       [ 2.26663657e+01],\n",
              "       [ 6.27420542e+01],\n",
              "       [ 1.89507804e+01],\n",
              "       [ 1.90763556e+01],\n",
              "       [ 6.13715741e+01],\n",
              "       [ 1.58845621e+01],\n",
              "       [ 1.34094181e+01],\n",
              "       [ 8.48772484e-01],\n",
              "       [ 7.83499672e+00],\n",
              "       [ 5.70128290e+01],\n",
              "       [ 2.56079968e+01],\n",
              "       [ 4.96170473e+00],\n",
              "       [ 3.64148790e+01],\n",
              "       [ 2.87900067e+01],\n",
              "       [ 4.91941210e+01],\n",
              "       [ 4.03068699e+01],\n",
              "       [ 1.33161806e+01],\n",
              "       [ 2.76610119e+01],\n",
              "       [ 1.71580275e+01],\n",
              "       [ 4.96872626e+01],\n",
              "       [ 2.30302723e+01],\n",
              "       [ 3.92409365e+01],\n",
              "       [ 1.31967539e+01],\n",
              "       [ 5.94889370e+00],\n",
              "       [ 2.58216090e+01],\n",
              "       [ 8.25863421e+00],\n",
              "       [ 1.91463205e+01],\n",
              "       [ 4.31824865e+01],\n",
              "       [ 6.71784358e+00],\n",
              "       [ 3.38696152e+01],\n",
              "       [ 1.53699378e+01],\n",
              "       [ 1.69390450e+01],\n",
              "       [ 3.78853368e+01],\n",
              "       [ 1.92024845e+01],\n",
              "       [ 9.05950472e+00],\n",
              "       [ 1.02833996e+01],\n",
              "       [ 4.86724471e+01],\n",
              "       [ 3.05877162e+01],\n",
              "       [ 2.47740990e+00],\n",
              "       [ 1.28116039e+01],\n",
              "       [ 7.03247898e+01],\n",
              "       [ 1.48409677e+01],\n",
              "       [ 6.88655876e+01],\n",
              "       [ 4.27419924e+01],\n",
              "       [ 2.40002615e+01],\n",
              "       [ 2.34207249e+01],\n",
              "       [ 6.16721244e+01],\n",
              "       [ 2.54942028e+01],\n",
              "       [ 1.90048098e+01],\n",
              "       [ 3.48866829e+01],\n",
              "       [ 9.40231340e+00],\n",
              "       [ 2.95200113e+01],\n",
              "       [ 1.45739659e+01],\n",
              "       [ 9.12556314e+00],\n",
              "       [ 5.28125840e+01],\n",
              "       [ 4.50395380e+01],\n",
              "       [ 1.74524347e+01],\n",
              "       [ 3.84939353e+01],\n",
              "       [ 2.70389191e+01],\n",
              "       [ 6.55817097e+01],\n",
              "       [ 7.03730638e+00],\n",
              "       [ 5.27144771e+01],\n",
              "       [ 3.82064593e+01],\n",
              "       [ 2.11698011e+01],\n",
              "       [ 3.02475569e+01],\n",
              "       [ 2.71442299e+00],\n",
              "       [ 1.99329326e+01],\n",
              "       [-3.41333234e+00],\n",
              "       [ 3.24459994e+01],\n",
              "       [ 1.05829730e+01],\n",
              "       [ 2.17752257e+01],\n",
              "       [ 6.24652921e+01],\n",
              "       [ 2.41329437e+01],\n",
              "       [ 2.62012396e+01],\n",
              "       [ 6.37444772e+01],\n",
              "       [ 2.83429777e+00],\n",
              "       [ 1.43792470e+01],\n",
              "       [ 9.36985073e+00],\n",
              "       [ 9.88116661e+00],\n",
              "       [ 3.49494536e+00],\n",
              "       [ 1.22608049e+02],\n",
              "       [ 2.10835130e+01],\n",
              "       [ 1.75322206e+01],\n",
              "       [ 2.01830983e+01],\n",
              "       [ 3.63931322e+01],\n",
              "       [ 3.49351512e+01],\n",
              "       [ 1.88303127e+01],\n",
              "       [ 3.83445555e+01],\n",
              "       [ 7.79166341e+01],\n",
              "       [ 1.79532355e+00],\n",
              "       [ 1.34458279e+01],\n",
              "       [ 3.61311556e+01],\n",
              "       [ 1.51504035e+01],\n",
              "       [ 1.29418483e+01],\n",
              "       [ 1.13125241e+02],\n",
              "       [ 1.52246047e+01],\n",
              "       [ 1.48240260e+01],\n",
              "       [ 5.92673537e+01],\n",
              "       [ 1.05836953e+01],\n",
              "       [ 2.09930626e+01],\n",
              "       [ 9.78936588e+00],\n",
              "       [ 4.77118001e+00],\n",
              "       [ 4.79278069e+01],\n",
              "       [ 1.23994384e+01],\n",
              "       [ 4.81464766e+01],\n",
              "       [ 4.04663804e+01],\n",
              "       [ 1.69405903e+01],\n",
              "       [ 4.12665445e+01],\n",
              "       [ 6.90278920e+01],\n",
              "       [ 4.03462492e+01],\n",
              "       [ 1.43137440e+01],\n",
              "       [ 1.57707266e+01]])"
            ]
          },
          "metadata": {
            "tags": []
          },
          "execution_count": 10
        }
      ]
    },
    {
      "cell_type": "markdown",
      "metadata": {
        "colab_type": "text",
        "id": "HKMKW7RzHwuO"
      },
      "source": [
        "# **Save Prediction to CSV File**\n"
      ]
    },
    {
      "cell_type": "code",
      "metadata": {
        "colab_type": "code",
        "id": "Dwfpqqy0H8en",
        "colab": {},
        "outputId": "c9f4c510-c3cc-44ac-cfde-d661b6454929"
      },
      "source": [
        "import csv\n",
        "with open('submit.csv', mode='w', newline='') as submit_file:\n",
        "    csv_writer = csv.writer(submit_file)\n",
        "    header = ['id', 'value']\n",
        "    print(header)\n",
        "    csv_writer.writerow(header)\n",
        "    for i in range(240):\n",
        "        row = ['id_' + str(i), ans_y[i][0]]\n",
        "        csv_writer.writerow(row)\n",
        "        print(row)"
      ],
      "execution_count": null,
      "outputs": [
        {
          "output_type": "stream",
          "text": [
            "['id', 'value']\n",
            "['id_0', 5.174960398984744]\n",
            "['id_1', 18.30621425352787]\n",
            "['id_2', 20.49121809418059]\n",
            "['id_3', 11.52394286980541]\n",
            "['id_4', 26.61605675230614]\n",
            "['id_5', 20.531348081761223]\n",
            "['id_6', 21.90655101879741]\n",
            "['id_7', 31.736468747068834]\n",
            "['id_8', 13.391674055111721]\n",
            "['id_9', 64.45646650291954]\n",
            "['id_10', 20.26456883615944]\n",
            "['id_11', 15.35857607736122]\n",
            "['id_12', 68.58947276926722]\n",
            "['id_13', 48.4281137474572]\n",
            "['id_14', 18.702333824193225]\n",
            "['id_15', 10.188595737466693]\n",
            "['id_16', 30.74036285982043]\n",
            "['id_17', 71.13221776355115]\n",
            "['id_18', -4.130517391262458]\n",
            "['id_19', 18.235694016428685]\n",
            "['id_20', 38.57892227500776]\n",
            "['id_21', 71.31151972531329]\n",
            "['id_22', 7.410348162634058]\n",
            "['id_23', 18.71795533032143]\n",
            "['id_24', 14.937250260084557]\n",
            "['id_25', 36.71973669470533]\n",
            "['id_26', 17.96169700566269]\n",
            "['id_27', 75.7894628721054]\n",
            "['id_28', 12.30931024861446]\n",
            "['id_29', 56.295351739649604]\n",
            "['id_30', 25.1131608656615]\n",
            "['id_31', 4.610248674094036]\n",
            "['id_32', 2.483770554515033]\n",
            "['id_33', 24.759422261321255]\n",
            "['id_34', 30.48028046559115]\n",
            "['id_35', 38.463930746426655]\n",
            "['id_36', 44.20231060933003]\n",
            "['id_37', 30.086836019866013]\n",
            "['id_38', 40.47367501574011]\n",
            "['id_39', 29.226479902317394]\n",
            "['id_40', 5.606456054343951]\n",
            "['id_41', 38.66601607878962]\n",
            "['id_42', 34.610213431877185]\n",
            "['id_43', 48.38969750738481]\n",
            "['id_44', 14.757247666944165]\n",
            "['id_45', 34.466820110872106]\n",
            "['id_46', 27.48310687418435]\n",
            "['id_47', 12.00087937815405]\n",
            "['id_48', 21.378036151603787]\n",
            "['id_49', 28.54440309166329]\n",
            "['id_50', 20.1655138184116]\n",
            "['id_51', 10.796678149746487]\n",
            "['id_52', 22.171035755750133]\n",
            "['id_53', 53.44626310935228]\n",
            "['id_54', 12.219581121610041]\n",
            "['id_55', 43.30096845517151]\n",
            "['id_56', 32.182335103285425]\n",
            "['id_57', 22.567217514570846]\n",
            "['id_58', 56.739514165547064]\n",
            "['id_59', 20.745052945295463]\n",
            "['id_60', 15.028854557473345]\n",
            "['id_61', 39.855301590385146]\n",
            "['id_62', 12.975340680728312]\n",
            "['id_63', 51.74165959283004]\n",
            "['id_64', 18.783369632539817]\n",
            "['id_65', 12.348752842777714]\n",
            "['id_66', 15.633623653541889]\n",
            "['id_67', -0.0588714706850233]\n",
            "['id_68', 41.50801107307595]\n",
            "['id_69', 31.548747530656016]\n",
            "['id_70', 18.60425115754706]\n",
            "['id_71', 37.47681972488073]\n",
            "['id_72', 56.520390657623025]\n",
            "['id_73', 6.587877193521948]\n",
            "['id_74', 12.22933973743504]\n",
            "['id_75', 5.203696404134675]\n",
            "['id_76', 47.927375103800586]\n",
            "['id_77', 13.020705685594681]\n",
            "['id_78', 17.110301693903622]\n",
            "['id_79', 20.603234531002037]\n",
            "['id_80', 21.284481560784595]\n",
            "['id_81', 38.692935290511784]\n",
            "['id_82', 30.020716675725872]\n",
            "['id_83', 88.76740666723546]\n",
            "['id_84', 35.98470023966829]\n",
            "['id_85', 26.756913553477247]\n",
            "['id_86', 23.963516843564406]\n",
            "['id_87', 32.74724282808307]\n",
            "['id_88', 22.189043755319926]\n",
            "['id_89', 20.992158853626584]\n",
            "['id_90', 29.555994316645435]\n",
            "['id_91', 40.99216886651779]\n",
            "['id_92', 8.625117809911533]\n",
            "['id_93', 32.3214718088779]\n",
            "['id_94', 46.598044365367656]\n",
            "['id_95', 22.884070826723562]\n",
            "['id_96', 31.518129728251672]\n",
            "['id_97', 11.198233479766118]\n",
            "['id_98', 28.527436642529608]\n",
            "['id_99', 0.2911506800896184]\n",
            "['id_100', 17.966961079539704]\n",
            "['id_101', 27.12416392947018]\n",
            "['id_102', 11.39823278065283]\n",
            "['id_103', 16.426426865673534]\n",
            "['id_104', 23.425261046922245]\n",
            "['id_105', 40.61608267056839]\n",
            "['id_106', 25.8641250265604]\n",
            "['id_107', 5.422736951672363]\n",
            "['id_108', 10.794921122256124]\n",
            "['id_109', 72.86213692992125]\n",
            "['id_110', 48.02283705948138]\n",
            "['id_111', 15.746808276902986]\n",
            "['id_112', 24.67041061417796]\n",
            "['id_113', 12.827793326536725]\n",
            "['id_114', 10.158057570240516]\n",
            "['id_115', 27.269223342020958]\n",
            "['id_116', 29.208738577932454]\n",
            "['id_117', 8.835339619930707]\n",
            "['id_118', 20.05108813712973]\n",
            "['id_119', 20.212333743764248]\n",
            "['id_120', 79.9060092987056]\n",
            "['id_121', 18.061614288263602]\n",
            "['id_122', 30.542809341304352]\n",
            "['id_123', 25.980792377728047]\n",
            "['id_124', 5.212577268164779]\n",
            "['id_125', 30.35569730585621]\n",
            "['id_126', 7.768322888914637]\n",
            "['id_127', 15.328268255393354]\n",
            "['id_128', 22.666365717697943]\n",
            "['id_129', 62.742054211090064]\n",
            "['id_130', 18.950780367988017]\n",
            "['id_131', 19.07635563083852]\n",
            "['id_132', 61.3715740916371]\n",
            "['id_133', 15.884562052629704]\n",
            "['id_134', 13.409418077705544]\n",
            "['id_135', 0.8487724836112811]\n",
            "['id_136', 7.834996717304172]\n",
            "['id_137', 57.0128290117968]\n",
            "['id_138', 25.607996751813815]\n",
            "['id_139', 4.9617047292420775]\n",
            "['id_140', 36.414879039062754]\n",
            "['id_141', 28.790006721975928]\n",
            "['id_142', 49.19412096197633]\n",
            "['id_143', 40.306869855734476]\n",
            "['id_144', 13.31618059398268]\n",
            "['id_145', 27.661011875229143]\n",
            "['id_146', 17.15802752436675]\n",
            "['id_147', 49.687262569296834]\n",
            "['id_148', 23.0302722916048]\n",
            "['id_149', 39.24093652484277]\n",
            "['id_150', 13.196753889412522]\n",
            "['id_151', 5.948893701039438]\n",
            "['id_152', 25.82160897630424]\n",
            "['id_153', 8.258634214291632]\n",
            "['id_154', 19.14632051722559]\n",
            "['id_155', 43.182486526516726]\n",
            "['id_156', 6.717843578093016]\n",
            "['id_157', 33.869615246810646]\n",
            "['id_158', 15.369937846981834]\n",
            "['id_159', 16.93904497355188]\n",
            "['id_160', 37.88533679463486]\n",
            "['id_161', 19.202484541054417]\n",
            "['id_162', 9.059504715654697]\n",
            "['id_163', 10.283399610648484]\n",
            "['id_164', 48.67244712569831]\n",
            "['id_165', 30.58771621323079]\n",
            "['id_166', 2.4774098975321674]\n",
            "['id_167', 12.811603937805955]\n",
            "['id_168', 70.32478980976462]\n",
            "['id_169', 14.840967694067018]\n",
            "['id_170', 68.8655875667886]\n",
            "['id_171', 42.74199244486632]\n",
            "['id_172', 24.00026154292017]\n",
            "['id_173', 23.420724860321428]\n",
            "['id_174', 61.67212443568236]\n",
            "['id_175', 25.494202845059196]\n",
            "['id_176', 19.00480978686906]\n",
            "['id_177', 34.88668288189683]\n",
            "['id_178', 9.402313398379754]\n",
            "['id_179', 29.520011314408016]\n",
            "['id_180', 14.573965885700488]\n",
            "['id_181', 9.125563143203571]\n",
            "['id_182', 52.81258399813192]\n",
            "['id_183', 45.03953799438962]\n",
            "['id_184', 17.452434679183284]\n",
            "['id_185', 38.49393527971431]\n",
            "['id_186', 27.038919092643802]\n",
            "['id_187', 65.58170967424583]\n",
            "['id_188', 7.037306380769625]\n",
            "['id_189', 52.71447713411572]\n",
            "['id_190', 38.20645933704975]\n",
            "['id_191', 21.169801059557848]\n",
            "['id_192', 30.247556879488407]\n",
            "['id_193', 2.714422989716315]\n",
            "['id_194', 19.932932587640828]\n",
            "['id_195', -3.4133323376039044]\n",
            "['id_196', 32.44599940281314]\n",
            "['id_197', 10.582973029979925]\n",
            "['id_198', 21.775225707258446]\n",
            "['id_199', 62.46529206567793]\n",
            "['id_200', 24.13294368731649]\n",
            "['id_201', 26.201239647400953]\n",
            "['id_202', 63.74447723440289]\n",
            "['id_203', 2.834297774129027]\n",
            "['id_204', 14.379246986978856]\n",
            "['id_205', 9.369850731753885]\n",
            "['id_206', 9.881166613595402]\n",
            "['id_207', 3.494945358972142]\n",
            "['id_208', 122.60804937921779]\n",
            "['id_209', 21.083513014480577]\n",
            "['id_210', 17.532220599455098]\n",
            "['id_211', 20.183098344597056]\n",
            "['id_212', 36.39313221228185]\n",
            "['id_213', 34.93515120529069]\n",
            "['id_214', 18.83031266145861]\n",
            "['id_215', 38.34455552272331]\n",
            "['id_216', 77.91663413807039]\n",
            "['id_217', 1.7953235508882202]\n",
            "['id_218', 13.445827939135773]\n",
            "['id_219', 36.131155590412135]\n",
            "['id_220', 15.150403498166282]\n",
            "['id_221', 12.941848334417912]\n",
            "['id_222', 113.12524093786392]\n",
            "['id_223', 15.22460467793438]\n",
            "['id_224', 14.824025968612098]\n",
            "['id_225', 59.26735368854044]\n",
            "['id_226', 10.583695290718474]\n",
            "['id_227', 20.993062563532206]\n",
            "['id_228', 9.789365880830385]\n",
            "['id_229', 4.771180008705976]\n",
            "['id_230', 47.9278069048129]\n",
            "['id_231', 12.399438394751021]\n",
            "['id_232', 48.146476562644125]\n",
            "['id_233', 40.46638039656415]\n",
            "['id_234', 16.940590270332937]\n",
            "['id_235', 41.26654448941875]\n",
            "['id_236', 69.02789203372899]\n",
            "['id_237', 40.34624924412245]\n",
            "['id_238', 14.313743982871173]\n",
            "['id_239', 15.770726634219784]\n"
          ],
          "name": "stdout"
        }
      ]
    },
    {
      "cell_type": "markdown",
      "metadata": {
        "colab_type": "text",
        "id": "Y54yWq9cIPR4"
      },
      "source": [
        "相關 reference 可以參考:\n",
        "\n",
        "Adagrad :\n",
        "https://youtu.be/yKKNr-QKz2Q?list=PLJV_el3uVTsPy9oCRY30oBPNLCo89yu49&t=705 \n",
        "\n",
        "RMSprop : \n",
        "https://www.youtube.com/watch?v=5Yt-obwvMHI \n",
        "\n",
        "Adam\n",
        "https://www.youtube.com/watch?v=JXQT_vxqwIs \n",
        "\n",
        "\n",
        "以上 print 的部分主要是為了看一下資料和結果的呈現，拿掉也無妨。另外，在自己的 linux 系統，可以將檔案寫死的的部分換成 sys.argv 的使用 (可在 terminal 自行輸入檔案和檔案位置)。\n",
        "\n",
        "最後，可以藉由調整 learning rate、iter_time (iteration 次數)、取用 features 的多寡(取幾個小時，取哪些特徵欄位)，甚至是不同的 model 來超越 baseline。\n",
        "\n",
        "Report 的問題模板請參照 : https://docs.google.com/document/d/1s84RXs2AEgZr54WCK9IgZrfTF-6B1td-AlKR9oqYa4g/edit"
      ]
    }
  ]
}